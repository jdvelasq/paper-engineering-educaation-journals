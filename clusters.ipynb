{
 "cells": [
  {
   "cell_type": "code",
   "execution_count": null,
   "id": "2a2f87e3-55bd-4961-a575-bd0ddaf65bde",
   "metadata": {},
   "outputs": [],
   "source": [
    "!pip install pyyaml\n",
    "!pip install -q nltk==3.2.5\n",
    "!pip install -q -U git+https://github.com/jdvelasq/techminer-api"
   ]
  },
  {
   "cell_type": "code",
   "execution_count": 12,
   "id": "3d9aa0ff-8231-4c2d-8f61-00b9dd6cc240",
   "metadata": {},
   "outputs": [
    {
     "data": {
      "text/plain": [
       "41                           mobile learning (m-learning)\n",
       "112                            mobile game-based learning\n",
       "845              mobile-assisted language learning (mall)\n",
       "1708                          mobile learning application\n",
       "1841                    mobile-assisted seamless learning\n",
       "2055                           mobile learning technology\n",
       "2742                                mobile-based learning\n",
       "3344                           mobile learning acceptance\n",
       "3344                mobile multimedia learning acceptance\n",
       "4432                             mobile-assisted learning\n",
       "4968    computer-assisted instruction (cai) - mobile l...\n",
       "5741                            mobile learning scenarios\n",
       "8168                          mobile mathematics learning\n",
       "9182                     mobile technologies for learning\n",
       "9279                          mobile learning environment\n",
       "Name: author_keywords, dtype: object"
      ]
     },
     "execution_count": 12,
     "metadata": {},
     "output_type": "execute_result"
    }
   ],
   "source": [
    "from sklearn.manifold import MDS\n",
    "from sklearn.cluster import KMeans\n",
    "\n",
    "from techminer import *\n",
    "\n",
    "directory = \"./data/\"\n",
    "file_name = \"./scopus.csv\"\n",
    "\n",
    "def step_01():\n",
    "    # ---< data importation >--------------------------------------------------\n",
    "    import_scopus_file(file_name, directory)\n",
    "\n",
    "    \n",
    "def step_02():\n",
    "    # ---< data coverage >--------------------------------------------------\n",
    "    return column_coverage(directory, column=\"author_keywords\").head(100).tail(10)\n",
    "    \n",
    "def step_03():\n",
    "    # ---< keywords cleaning >-------------------------------------------------\n",
    "    # clean_keywords(directory)\n",
    "    # return find_string(directory, column=\"author_keywords\", contains='mobile')\n",
    "    return stemming_and(directory, \"author_keywords\", \"mobile learning\").drop_duplicates()\n",
    "    pass\n",
    "\n",
    "def step_04():\n",
    "    # ---< keywords clustering >-----------------------------------------------\n",
    "    clean_keywords(directory)\n",
    "    coc_matrix = co_occurrence_matrix(\n",
    "        directory, \n",
    "        'author_keywords',\n",
    "        min_occ=20, \n",
    "        association=\"equivalence\",\n",
    "    )\n",
    "    #\n",
    "    mds = MDS(random_state=12345)\n",
    "    #\n",
    "    analyzer = co_occurrence_network_analysis(\n",
    "        coc_matrix, \n",
    "        clustering_method='louvain', \n",
    "        manifold_method=mds,\n",
    "    )\n",
    "\n",
    "    return analyzer.communities()\n",
    "    # return analyzer.network()\n",
    "    # return analyzer.manifold_map()\n",
    "    # print(analyzer.centrality_density_table())\n",
    "    # return analyzer.centrality_density_map()    \n",
    "    \n",
    "# step_01()\n",
    "# step_02()\n",
    "step_03()\n",
    "# step_04()"
   ]
  },
  {
   "cell_type": "code",
   "execution_count": null,
   "id": "950f127f-7d32-41b6-9271-57fe695dcf62",
   "metadata": {},
   "outputs": [],
   "source": []
  }
 ],
 "metadata": {
  "kernelspec": {
   "display_name": "Python 3",
   "language": "python",
   "name": "python3"
  },
  "language_info": {
   "codemirror_mode": {
    "name": "ipython",
    "version": 3
   },
   "file_extension": ".py",
   "mimetype": "text/x-python",
   "name": "python",
   "nbconvert_exporter": "python",
   "pygments_lexer": "ipython3",
   "version": "3.6.9"
  }
 },
 "nbformat": 4,
 "nbformat_minor": 5
}
